{
  "cells": [
    {
      "cell_type": "markdown",
      "id": "a35eeb9f-df70-4ab1-a243-2d2025888eb0",
      "metadata": {},
      "source": [
        "# 1. Introduction to QuantumPrime:\n",
        "## 1.2. Introduction to QuantumPrime states\n",
        "The following code represents (observes) a specific number as an array of quantum states, each with different base energy levels (and additional energy).\n",
        "\n",
        "** Copyright**\n",
        "\n",
        "© 2023 Fernando Latorre López"
      ]
    },
    {
      "cell_type": "code",
      "execution_count": 1,
      "id": "fe55883a-6887-43dd-9498-5333a51799e2",
      "metadata": {
        "trusted": true
      },
      "outputs": [
        {
          "name": "stdout",
          "output_type": "stream",
          "text": [
            "Quantum states for the number 100 : ['2 + 2^1*7^2', '3 + 97^1', '5 + 5^1*19^1', '7 + 3^1*31^1', '11 + 89^1', '13 + 3^1*29^1', '17 + 83^1', '19 + 3^4', '23 + 7^1*11^1', '29 + 71^1', '31 + 3^1*23^1', '37 + 3^2*7^1', '41 + 59^1', '43 + 3^1*19^1', '47 + 53^1', '53 + 47^1', '59 + 41^1', '61 + 3^1*13^1', '67 + 3^1*11^1', '71 + 29^1', '73 + 3^3', '79 + 3^1*7^1', '83 + 17^1', '89 + 11^1']\n"
          ]
        }
      ],
      "source": [
        "from sympy import primerange, factorint\n",
        "\n",
        "def quantum_state(number, prime_levels):\n",
        "    \"\"\"\n",
        "    Generate a quantum state of a number.\n",
        "    \"\"\"\n",
        "    expressions = []\n",
        "    for prime_level in prime_levels:\n",
        "        for remaining in range(number - prime_level + 1):\n",
        "            factors = factorint(remaining)\n",
        "            if not factors:\n",
        "                continue\n",
        "            prime_product = \"*\".join([f\"{prime}^{exp}\" for prime, exp in factors.items()])\n",
        "            if prime_level + remaining == number:\n",
        "                expressions.append(f\"{prime_level} + {prime_product}\")\n",
        "    return expressions\n",
        "\n",
        "# Define prime levels\n",
        "prime_levels = list(primerange(2, 97))\n",
        "\n",
        "# Example of a number\n",
        "test_number = 100\n",
        "\n",
        "# Generate alternative number representations\n",
        "result = quantum_state(test_number, prime_levels)\n",
        "\n",
        "# Display the result\n",
        "print(\"Quantum states for the number\", test_number, \":\", result)\n"
      ]
    },
    {
      "cell_type": "markdown",
      "id": "b9670d85-ef29-4dfd-b4b5-e76d279c1f1a",
      "metadata": {},
      "source": [
        "## Next steps 🏃\n",
        "\n",
        "This is just a short introduction to QuantumPrime.\n",
        "\n",
        "### Other notebooks in this demo\n",
        "\n",
        "Here are some other notebooks in this demo. Each of the items below corresponds to a file or folder in the **file browser to the left**.\n"
      ]
    }
  ],
  "metadata": {
    "kernelspec": {
      "display_name": "Python 3",
      "language": "python",
      "name": "python3"
    },
    "language_info": {
      "codemirror_mode": {
        "name": "ipython",
        "version": 3
      },
      "file_extension": ".py",
      "mimetype": "text/x-python",
      "name": "python",
      "nbconvert_exporter": "python",
      "pygments_lexer": "ipython3",
      "version": "3.10.2"
    }
  },
  "nbformat": 4,
  "nbformat_minor": 5
}
