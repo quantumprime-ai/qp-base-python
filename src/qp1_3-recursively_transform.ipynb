{
  "cells": [
    {
      "cell_type": "markdown",
      "id": "a35eeb9f-df70-4ab1-a243-2d2025888eb0",
      "metadata": {},
      "source": [
        "# 1. Introduction to QuantumPrime:\n",
        "## 1.3. Recursively transform a number into expressions using the appropriate energy levels and root primes\n",
        "The following code recursively transform a number into expressions using the appropriate energy levels and root primes, until a depth is achieved.\n",
        "\n",
        "    Args:\n",
        "    - number (int): The number to be transformed.\n",
        "    - desired_energy_levels (list): Desired energy levels for stopping the transformation.\n",
        "    - root_primes (list): Root primes to stop further transformation.\n",
        "    - depth (int): Current depth of recursion.\n",
        "    - max_depth (int): Maximum allowed depth of recursion.\n",
        "    - show_logs (bool): Whether to show detailed logs of each step.\n",
        "    - show_exponent_one (bool): Whether to show the exponent when it is one.\n",
        "\n",
        "    Returns:\n",
        "    - tuple: Transformed expression and the transformation depth."
      ]
    },
    {
      "cell_type": "code",
      "execution_count": 1,
      "id": "fe55883a-6887-43dd-9498-5333a51799e2",
      "metadata": {
        "trusted": true
      },
      "outputs": [
        {
          "name": "stdout",
          "output_type": "stream",
          "text": [
            "Depth 2 = Maximum depth reached at 13\n",
            "Depth 2 = Maximum depth reached at 107\n",
            "Depth 1 = Transformed 54251 into 2 + 3*(13)^2*(107) [OK]\n",
            "Depth 0 = Transformed 54253 into 2 + (2 + 3*(13)^2*(107)) [OK]\n",
            "Transformed Expression for Number 54253 = 2 + (2 + 3*(13)^2*(107))\n"
          ]
        }
      ],
      "source": [
        "from sympy import sympify, isprime, factorint\n",
        "\n",
        "def recursive_prime_transformation(number, desired_energy_levels, root_primes=[2, 3], depth=0, max_depth=10, show_logs=True, show_exponent_one=False):\n",
        "    \"\"\"\n",
        "    Recursively transform a number into expressions using the appropriate energy levels and root primes.\n",
        "\n",
        "    Args:\n",
        "    - number (int): The number to be transformed.\n",
        "    - desired_energy_levels (list): Desired energy levels for stopping the transformation.\n",
        "    - root_primes (list): Root primes to stop further transformation.\n",
        "    - depth (int): Current depth of recursion.\n",
        "    - max_depth (int): Maximum allowed depth of recursion.\n",
        "    - show_logs (bool): Whether to show detailed logs of each step.\n",
        "    - show_exponent_one (bool): Whether to show the exponent when it is one.\n",
        "\n",
        "    Returns:\n",
        "    - tuple: Transformed expression and the transformation depth.\n",
        "    \"\"\"\n",
        "    if depth >= max_depth:\n",
        "        if show_logs:\n",
        "            print(f\"Depth {depth} = Maximum depth reached at {number}\")\n",
        "        return str(number), depth\n",
        "\n",
        "    if depth != 0 and (number in desired_energy_levels or number in root_primes):\n",
        "        if show_logs:\n",
        "            print(f\"Depth {depth} = Number {number} is in desired energy levels or root primes\")\n",
        "        return str(number), depth\n",
        "\n",
        "    energy_level = next((e for e in desired_energy_levels if e < number), root_primes[0])\n",
        "    remaining_e = number - energy_level\n",
        "\n",
        "    if remaining_e < 2:\n",
        "        final_expression = f\"{energy_level} + {remaining_e}\"\n",
        "        return final_expression, depth\n",
        "\n",
        "    factors = factorint(remaining_e)\n",
        "    transformed_factors = []\n",
        "    max_reached_depth = depth\n",
        "\n",
        "    for factor, exponent in factors.items():\n",
        "        if depth == 0 or factor not in desired_energy_levels and factor not in root_primes:\n",
        "            transformed_expression, sub_depth = recursive_prime_transformation(factor, desired_energy_levels, root_primes, depth + 1, max_depth, show_logs, show_exponent_one)\n",
        "            max_reached_depth = max(max_reached_depth, sub_depth)\n",
        "            exponent_part = f\"^{exponent}\" if exponent > 1 or show_exponent_one else \"\"\n",
        "            transformed_factors.append(f\"({transformed_expression}){exponent_part}\")\n",
        "        else:\n",
        "            exponent_part = f\"^{exponent}\" if exponent > 1 or show_exponent_one else \"\"\n",
        "            transformed_factors.append(f\"{factor}{exponent_part}\")\n",
        "\n",
        "    factor_expression = \"*\".join(transformed_factors)\n",
        "    final_expression = f\"{energy_level} + {factor_expression}\"\n",
        "\n",
        "    # Verify the result\n",
        "    calculated_value = sympify(final_expression)\n",
        "    verification_result = \"OK\" if calculated_value == number else \"ERROR\"\n",
        "\n",
        "    if show_logs:\n",
        "        print(f\"Depth {depth} = Transformed {number} into {final_expression} [{verification_result}]\")\n",
        "\n",
        "    return final_expression, max_reached_depth\n",
        "\n",
        "# Example usage\n",
        "desired_energy_levels = []  # Can be [43]\n",
        "root_primes = [2, 3]  # Root primes for stopping the transformation\n",
        "max_recursive_depth = 2  # Set a maximum depth for demonstration\n",
        "show_logs = True  # Set to True to show logs\n",
        "show_exponent_one = False  # Set to False to hide exponent when it is one\n",
        "\n",
        "# Example number\n",
        "number = 54253  # Example number\n",
        "\n",
        "# Perform the recursive transformation\n",
        "transformed_expression, _ = recursive_prime_transformation(\n",
        "    number, desired_energy_levels, root_primes, max_depth=max_recursive_depth, show_logs=show_logs, show_exponent_one=show_exponent_one\n",
        ")\n",
        "\n",
        "# Display the results\n",
        "print(f\"Transformed Expression for Number {number} = {transformed_expression}\")\n"
      ]
    },
    {
      "cell_type": "markdown",
      "id": "b9670d85-ef29-4dfd-b4b5-e76d279c1f1a",
      "metadata": {},
      "source": [
        "## Next steps 🏃\n",
        "\n",
        "This is just a short introduction to QuantumPrime.\n",
        "\n",
        "### Other notebooks in this demo\n",
        "\n",
        "Here are some other notebooks in this demo. Each of the items below corresponds to a file or folder in the **file browser to the left**.\n",
        "\n",
        "- [**`qp01`**](qp01.ipynb)\n",
        "- [**`qp02`**](qp02.ipynb) "
      ]
    }
  ],
  "metadata": {
    "kernelspec": {
      "display_name": "Python 3",
      "language": "python",
      "name": "python3"
    },
    "language_info": {
      "codemirror_mode": {
        "name": "ipython",
        "version": 3
      },
      "file_extension": ".py",
      "mimetype": "text/x-python",
      "name": "python",
      "nbconvert_exporter": "python",
      "pygments_lexer": "ipython3",
      "version": "3.10.2"
    }
  },
  "nbformat": 4,
  "nbformat_minor": 5
}
