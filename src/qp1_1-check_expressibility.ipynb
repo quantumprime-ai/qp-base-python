{
  "cells": [
    {
      "cell_type": "markdown",
      "id": "a35eeb9f-df70-4ab1-a243-2d2025888eb0",
      "metadata": {},
      "source": [
        "# 1. Introduction to QuantumPrime:\n",
        "## 1.1 Introduction to the QuantumPrime formula\n",
        "The following code, check_expressibility, observes numbers in terms of a base energy level and additional energy. Users can define the range (start and end) and can also specify base energy levels to utilize via specific_prime_levels, with the root primes 2 and 3 set as defaults.\n",
        "\n",
        "** Copyright**\n",
        "\n",
        "© 2023 Fernando Latorre López"
      ]
    },
    {
      "cell_type": "code",
      "execution_count": 1,
      "id": "fe55883a-6887-43dd-9498-5333a51799e2",
      "metadata": {
        "trusted": true
      },
      "outputs": [
        {
          "name": "stdout",
          "output_type": "stream",
          "text": [
            "Progress: 0.00%\n",
            "Progress: 20.00%\n",
            "Progress: 40.00%\n",
            "Progress: 60.00%\n",
            "Progress: 80.00%\n",
            "Output written to file: results-1707780893.txt\n",
            "15 = 2 + 13^1 OR 3 + 2^2*3^1 OR 5 + 2^1*5^1 OR 7 + 2^3 OR 11 + 2^2 OR 13 + 2^1\n",
            "16 = 2 + 2^1*7^1 OR 3 + 13^1 OR 5 + 11^1 OR 7 + 3^2 OR 11 + 5^1 OR 13 + 3^1\n",
            "17 = 2 + 3^1*5^1 OR 3 + 2^1*7^1 OR 5 + 2^2*3^1 OR 7 + 2^1*5^1 OR 11 + 2^1*3^1 OR 13 + 2^2\n",
            "18 = 2 + 2^4 OR 3 + 3^1*5^1 OR 5 + 13^1 OR 7 + 11^1 OR 11 + 7^1 OR 13 + 5^1\n",
            "19 = 2 + 17^1 OR 3 + 2^4 OR 5 + 2^1*7^1 OR 7 + 2^2*3^1 OR 11 + 2^3 OR 13 + 2^1*3^1 OR 17 + 2^1\n"
          ]
        }
      ],
      "source": [
        "import json\n",
        "import time\n",
        "from sympy import primerange, isprime, factorint\n",
        "\n",
        "def express_number_above_three(number, prime_levels):\n",
        "    \"\"\"\n",
        "    Expresses a number greater than 3 as a sum of a prime number and a product of prime factors,\n",
        "    excluding expressions involving \"+ 0^1\".\n",
        "    \"\"\"\n",
        "    expressions = []\n",
        "    for prime_level in prime_levels:\n",
        "        for remaining in range(number - prime_level + 1):\n",
        "            factors = factorint(remaining)\n",
        "            if not factors or 0 in factors:  # Skip if no factors are found or if 0 is a factor\n",
        "                continue\n",
        "            prime_product = \"*\".join([f\"{prime}^{exp}\" for prime, exp in factors.items()])\n",
        "            if prime_level + remaining == number:\n",
        "                expressions.append(f\"{prime_level} + {prime_product}\")\n",
        "    return expressions\n",
        "\n",
        "def express_number_below_two(number, prime_levels):\n",
        "    \"\"\"\n",
        "    Expresses a number less than 2 as a difference between a prime number and a product of prime factors,\n",
        "    excluding expressions involving \"- 0^1\".\n",
        "    \"\"\"\n",
        "    expressions = []\n",
        "    for prime_level in prime_levels:\n",
        "        for remaining in range(abs(number) + prime_level + 1):\n",
        "            factors = factorint(remaining)\n",
        "            if not factors or 0 in factors:  # Skip if no factors are found or if 0 is a factor\n",
        "                continue\n",
        "            prime_product = \"*\".join([f\"{prime}^{exp}\" for prime, exp in factors.items()])\n",
        "            if prime_level - remaining == number:\n",
        "                expressions.append(f\"{prime_level} - {prime_product}\")\n",
        "    return expressions\n",
        "\n",
        "def check_expressibility(start, end=None, specific_prime_levels=None, show_logs=True, output_format=\"txt\", output_file=None, show_result=True, only_primes=False):\n",
        "    \"\"\"\n",
        "    Checks the expressibility of numbers in a given range using prime factorization, with options for displaying progress, saving results to a file, and showing the results, excluding expressions involving \"+ 0^1\".\n",
        "    \"\"\"\n",
        "    if end is None:\n",
        "        end = start\n",
        "    total_numbers = abs(end - start) + 1\n",
        "    results = {}\n",
        "\n",
        "    step = 1 if start <= end else -1\n",
        "\n",
        "    for number in range(start, end + step, step):\n",
        "        prime_levels = specific_prime_levels if specific_prime_levels else [2, 3] + list(primerange(4, number + 1))\n",
        "\n",
        "        if number >= 2:\n",
        "            expressions = express_number_above_three(number, prime_levels)\n",
        "        else:\n",
        "            expressions = express_number_below_two(number, prime_levels)\n",
        "\n",
        "        # Filter out expressions with \"+ 0^1\"\n",
        "        expressions = [expr for expr in expressions if \"0^1\" not in expr]\n",
        "\n",
        "        results[number] = expressions if expressions else [\"null\"]\n",
        "\n",
        "        if show_logs:\n",
        "            progress = ((number - start) / total_numbers) * 100\n",
        "            print(f\"Progress: {progress:.2f}%\")\n",
        "\n",
        "    output_data = format_output(results, output_format)\n",
        "\n",
        "    if output_file:\n",
        "        timestamp = int(time.time())\n",
        "        filename = f\"{output_file}-{timestamp}.{output_format}\"\n",
        "        with open(filename, \"w\") as file:\n",
        "            file.write(output_data)\n",
        "        print(f\"Output written to file: {filename}\")\n",
        "\n",
        "    if show_result:\n",
        "        print(output_data)\n",
        "\n",
        "def format_output(results, output_format):\n",
        "    \"\"\"\n",
        "    Formats the output data based on the specified format (either 'json' or 'txt'), excluding expressions involving \"+ 0^1\".\n",
        "    \"\"\"\n",
        "    if output_format == \"json\":\n",
        "        return json.dumps(results, indent=4)\n",
        "    elif output_format == \"txt\":\n",
        "        return \"\\n\".join([f\"{number} = {' OR '.join(exprs) if exprs else 'null'}\" for number, exprs in results.items()])\n",
        "\n",
        "# Example usage\n",
        "start = 15  # Start of the range\n",
        "end = 19    # End of the range\n",
        "only_primes = False  # Include non-prime numbers in the output\n",
        "show_logs = True     # Display progress logs\n",
        "output_format = \"txt\"  # Output format ('txt' or 'json')\n",
        "output_file = \"results\"  # Base name for the output file\n",
        "show_result = True      # Show the result in the console\n",
        "\n",
        "# Execute the function\n",
        "check_expressibility(start, end, specific_prime_levels=[], show_logs=show_logs, output_format=output_format, output_file=output_file, show_result=show_result)\n"
      ]
    },
    {
      "cell_type": "markdown",
      "id": "b9670d85-ef29-4dfd-b4b5-e76d279c1f1a",
      "metadata": {},
      "source": [
        "## Next steps 🏃\n",
        "\n",
        "This is just a short introduction to QuantumPrime.\n",
        "\n",
        "### Other notebooks in this demo\n",
        "\n",
        "Here are some other notebooks in this demo. Each of the items below corresponds to a file or folder in the **file browser to the left**.\n"
      ]
    },
    {
      "cell_type": "code",
      "execution_count": null,
      "id": "e0fc6813-ff03-4d3e-99be-953f44840ba7",
      "metadata": {
        "trusted": true
      },
      "outputs": [],
      "source": []
    }
  ],
  "metadata": {
    "kernelspec": {
      "display_name": "Python 3",
      "language": "python",
      "name": "python3"
    },
    "language_info": {
      "codemirror_mode": {
        "name": "ipython",
        "version": 3
      },
      "file_extension": ".py",
      "mimetype": "text/x-python",
      "name": "python",
      "nbconvert_exporter": "python",
      "pygments_lexer": "ipython3",
      "version": "3.10.2"
    }
  },
  "nbformat": 4,
  "nbformat_minor": 5
}
